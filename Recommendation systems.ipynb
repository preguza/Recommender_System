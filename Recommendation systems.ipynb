{
 "cells": [
  {
   "cell_type": "markdown",
   "id": "2c683d98-ab15-4dd0-a807-cf22b3920c3b",
   "metadata": {},
   "source": [
    "<a id=1></a>    \n",
    "\n",
    "<div style=\"padding:15px;\n",
    "            color:white;\n",
    "            margin:0;\n",
    "            font-size:200%;\n",
    "            text-align:center;\n",
    "            display:fill;\n",
    "            border-radius:5px;\n",
    "            background-color:#588157;\n",
    "            overflow:hidden;\n",
    "            font-weight:500\">\n",
    "        1. Abstract\n",
    "</div>"
   ]
  },
  {
   "cell_type": "markdown",
   "id": "3e7cd396-2be2-4108-bf20-ee4a7e8b5ae9",
   "metadata": {},
   "source": [
    "[go on top](#0)\n",
    "<br>[go next chapter ↓](#2)"
   ]
  },
  {
   "cell_type": "markdown",
   "id": "4ac1833a-2c2d-49e6-8a17-96773d5f833c",
   "metadata": {},
   "source": [
    "This notebook focuses on exploring ways to create recommender systems, mainly content and collaboratively based.\n",
    "The dataset consisted of more than 70 thousand interactions on 3000 articles by 3000 users.\n",
    "It achieves a RMSE score of 0.62 and MAE of 0.46 on test data."
   ]
  },
  {
   "cell_type": "markdown",
   "id": "7f4a1336-0ff9-4139-a46d-74623b373e75",
   "metadata": {},
   "source": [
    "<a id=2></a>    \n",
    "\n",
    "<div style=\"padding:15px;\n",
    "            color:white;\n",
    "            margin:0;\n",
    "            font-size:200%;\n",
    "            text-align:center;\n",
    "            display:fill;\n",
    "            border-radius:5px;\n",
    "            background-color:#706677;\n",
    "            overflow:hidden;\n",
    "            font-weight:500\">\n",
    "        2. Imports\n",
    "</div>"
   ]
  },
  {
   "cell_type": "markdown",
   "id": "dadf1fb5-022f-4a3a-9f7c-6915a8e5288c",
   "metadata": {},
   "source": [
    "[go on top](#0)\n",
    "<br>[go previous chapter ↑](#1)\n",
    "<br>[go next chapter ↓](#3)"
   ]
  },
  {
   "cell_type": "code",
   "execution_count": 40,
   "id": "5cc5b738-f8cc-4c10-a920-a0fbdb07a0bc",
   "metadata": {},
   "outputs": [],
   "source": [
    "# Data manipulations\n",
    "import pandas as pd\n",
    "import numpy as np\n",
    "\n",
    "# Data Visualizations\n",
    "import plotly.express as px\n",
    "import seaborn as sns\n",
    "import matplotlib.pyplot as plt\n",
    "import missingno as msno\n",
    "\n",
    "# For multiple pretty-prints of dataframes from single cell\n",
    "from IPython.core.interactiveshell import InteractiveShell\n",
    "InteractiveShell.ast_node_interactivity = 'all'\n",
    "\n",
    "# ignore warnings to clean up output cells\n",
    "from warnings import simplefilter\n",
    "simplefilter(\"ignore\")\n",
    "\n",
    "# Tools for building recommenders\n",
    "from sklearn.feature_extraction.text import TfidfVectorizer as tfidf\n",
    "from sklearn.metrics.pairwise import cosine_similarity\n",
    "from sklearn.metrics.pairwise import linear_kernel\n",
    "\n",
    "# For collaborative filtering\n",
    "from surprise import SVD, Dataset, Reader, SVDpp\n",
    "from surprise.model_selection import cross_validate, KFold"
   ]
  },
  {
   "cell_type": "markdown",
   "id": "f1816e58-8f68-4c13-95bf-f5d628ae139a",
   "metadata": {},
   "source": [
    "<a id=3></a> \n",
    "\n",
    "<div style=\"padding:15px;\n",
    "            color:white;\n",
    "            margin:0;\n",
    "            font-size:200%;\n",
    "            text-align:center;\n",
    "            display:fill;\n",
    "            border-radius:5px;\n",
    "            background-color:#6a994e;\n",
    "            overflow:hidden;\n",
    "            font-weight:500\">\n",
    "       3. Exploratory Data Analysis\n",
    "</div>   "
   ]
  },
  {
   "cell_type": "markdown",
   "id": "8d2a71c8-2e96-4bdf-9db4-67e103d41c12",
   "metadata": {},
   "source": [
    "[go on top](#0)\n",
    "<br>[go previous chapter ↑](#2)\n",
    "<br>[go next chapter ↓](#4)"
   ]
  },
  {
   "cell_type": "markdown",
   "id": "bee1cc5b-62af-4d14-b9de-db8fb2dc3e19",
   "metadata": {},
   "source": [
    "### **About the dataset:**"
   ]
  },
  {
   "cell_type": "markdown",
   "id": "7088bed2-d7e4-422a-bff7-1d1e9acb6d13",
   "metadata": {},
   "source": [
    "Deskdrop is an internal communications platform developed by CI&T, focused in companies using Google G Suite. Among other features, this platform allows companies employees to share relevant articles with their peers, and collaborate around them.\n",
    "\n",
    "This dataset contains a real sample of 12 months logs (Mar. 2016 - Feb. 2017) from CI&T's Internal Communication platform (DeskDrop).\n",
    "I contains about 73k logged users interactions on more than 3k public articles shared in the platform.\n",
    "\n",
    "This dataset features some distinctive characteristics:\n",
    "- **Item attributes:** Articles' original URL, title, and content plain text are available in two languages (English and Portuguese).\n",
    "- **Contextual information:** Context of the users visits, like date/time, client (mobile native app / browser) and geolocation.\n",
    "- **Logged users:** All users are required to login in the platform, providing a long-term tracking of users preferences (not depending on cookies in devices).\n",
    "- **Rich implicit feedback:** Different interaction types were logged, making it possible to infer the user's level of interest in the articles (eg. comments > likes > views).\n",
    "- **Multi-platform:** Users interactions were tracked in different platforms (web browsers and mobile native apps)"
   ]
  },
  {
   "cell_type": "markdown",
   "id": "11e03754-4f49-4c46-925d-d42ca52370a9",
   "metadata": {},
   "source": [
    "___"
   ]
  },
  {
   "cell_type": "markdown",
   "id": "dd1cb8bd-c6ed-44dc-86e5-55aa2f455377",
   "metadata": {},
   "source": [
    "### **Articles file EDA:**"
   ]
  },
  {
   "cell_type": "code",
   "execution_count": 2,
   "id": "cb9736b4-dd71-4c72-9ba9-d454e7772d82",
   "metadata": {},
   "outputs": [
    {
     "name": "stdout",
     "output_type": "stream",
     "text": [
      "\n",
      "Articles dataframe:\n"
     ]
    },
    {
     "data": {
      "text/html": [
       "<div>\n",
       "<style scoped>\n",
       "    .dataframe tbody tr th:only-of-type {\n",
       "        vertical-align: middle;\n",
       "    }\n",
       "\n",
       "    .dataframe tbody tr th {\n",
       "        vertical-align: top;\n",
       "    }\n",
       "\n",
       "    .dataframe thead th {\n",
       "        text-align: right;\n",
       "    }\n",
       "</style>\n",
       "<table border=\"1\" class=\"dataframe\">\n",
       "  <thead>\n",
       "    <tr style=\"text-align: right;\">\n",
       "      <th></th>\n",
       "      <th>timestamp</th>\n",
       "      <th>eventType</th>\n",
       "      <th>contentId</th>\n",
       "      <th>authorPersonId</th>\n",
       "      <th>authorSessionId</th>\n",
       "      <th>authorUserAgent</th>\n",
       "      <th>authorRegion</th>\n",
       "      <th>authorCountry</th>\n",
       "      <th>contentType</th>\n",
       "      <th>url</th>\n",
       "      <th>title</th>\n",
       "      <th>text</th>\n",
       "      <th>lang</th>\n",
       "    </tr>\n",
       "  </thead>\n",
       "  <tbody>\n",
       "    <tr>\n",
       "      <th>0</th>\n",
       "      <td>1459192779</td>\n",
       "      <td>CONTENT REMOVED</td>\n",
       "      <td>-6451309518266745024</td>\n",
       "      <td>4340306774493623681</td>\n",
       "      <td>8940341205206233829</td>\n",
       "      <td>NaN</td>\n",
       "      <td>NaN</td>\n",
       "      <td>NaN</td>\n",
       "      <td>HTML</td>\n",
       "      <td>http://www.nytimes.com/2016/03/28/business/dea...</td>\n",
       "      <td>Ethereum, a Virtual Currency, Enables Transact...</td>\n",
       "      <td>All of this work is still very early. The firs...</td>\n",
       "      <td>en</td>\n",
       "    </tr>\n",
       "    <tr>\n",
       "      <th>1</th>\n",
       "      <td>1459193988</td>\n",
       "      <td>CONTENT SHARED</td>\n",
       "      <td>-4110354420726924665</td>\n",
       "      <td>4340306774493623681</td>\n",
       "      <td>8940341205206233829</td>\n",
       "      <td>NaN</td>\n",
       "      <td>NaN</td>\n",
       "      <td>NaN</td>\n",
       "      <td>HTML</td>\n",
       "      <td>http://www.nytimes.com/2016/03/28/business/dea...</td>\n",
       "      <td>Ethereum, a Virtual Currency, Enables Transact...</td>\n",
       "      <td>All of this work is still very early. The firs...</td>\n",
       "      <td>en</td>\n",
       "    </tr>\n",
       "    <tr>\n",
       "      <th>2</th>\n",
       "      <td>1459194146</td>\n",
       "      <td>CONTENT SHARED</td>\n",
       "      <td>-7292285110016212249</td>\n",
       "      <td>4340306774493623681</td>\n",
       "      <td>8940341205206233829</td>\n",
       "      <td>NaN</td>\n",
       "      <td>NaN</td>\n",
       "      <td>NaN</td>\n",
       "      <td>HTML</td>\n",
       "      <td>http://cointelegraph.com/news/bitcoin-future-w...</td>\n",
       "      <td>Bitcoin Future: When GBPcoin of Branson Wins O...</td>\n",
       "      <td>The alarm clock wakes me at 8:00 with stream o...</td>\n",
       "      <td>en</td>\n",
       "    </tr>\n",
       "    <tr>\n",
       "      <th>3</th>\n",
       "      <td>1459194474</td>\n",
       "      <td>CONTENT SHARED</td>\n",
       "      <td>-6151852268067518688</td>\n",
       "      <td>3891637997717104548</td>\n",
       "      <td>-1457532940883382585</td>\n",
       "      <td>NaN</td>\n",
       "      <td>NaN</td>\n",
       "      <td>NaN</td>\n",
       "      <td>HTML</td>\n",
       "      <td>https://cloudplatform.googleblog.com/2016/03/G...</td>\n",
       "      <td>Google Data Center 360° Tour</td>\n",
       "      <td>We're excited to share the Google Data Center ...</td>\n",
       "      <td>en</td>\n",
       "    </tr>\n",
       "    <tr>\n",
       "      <th>4</th>\n",
       "      <td>1459194497</td>\n",
       "      <td>CONTENT SHARED</td>\n",
       "      <td>2448026894306402386</td>\n",
       "      <td>4340306774493623681</td>\n",
       "      <td>8940341205206233829</td>\n",
       "      <td>NaN</td>\n",
       "      <td>NaN</td>\n",
       "      <td>NaN</td>\n",
       "      <td>HTML</td>\n",
       "      <td>https://bitcoinmagazine.com/articles/ibm-wants...</td>\n",
       "      <td>IBM Wants to \"Evolve the Internet\" With Blockc...</td>\n",
       "      <td>The Aite Group projects the blockchain market ...</td>\n",
       "      <td>en</td>\n",
       "    </tr>\n",
       "  </tbody>\n",
       "</table>\n",
       "</div>"
      ],
      "text/plain": [
       "    timestamp        eventType            contentId       authorPersonId  \\\n",
       "0  1459192779  CONTENT REMOVED -6451309518266745024  4340306774493623681   \n",
       "1  1459193988   CONTENT SHARED -4110354420726924665  4340306774493623681   \n",
       "2  1459194146   CONTENT SHARED -7292285110016212249  4340306774493623681   \n",
       "3  1459194474   CONTENT SHARED -6151852268067518688  3891637997717104548   \n",
       "4  1459194497   CONTENT SHARED  2448026894306402386  4340306774493623681   \n",
       "\n",
       "       authorSessionId authorUserAgent authorRegion authorCountry contentType  \\\n",
       "0  8940341205206233829             NaN          NaN           NaN        HTML   \n",
       "1  8940341205206233829             NaN          NaN           NaN        HTML   \n",
       "2  8940341205206233829             NaN          NaN           NaN        HTML   \n",
       "3 -1457532940883382585             NaN          NaN           NaN        HTML   \n",
       "4  8940341205206233829             NaN          NaN           NaN        HTML   \n",
       "\n",
       "                                                 url  \\\n",
       "0  http://www.nytimes.com/2016/03/28/business/dea...   \n",
       "1  http://www.nytimes.com/2016/03/28/business/dea...   \n",
       "2  http://cointelegraph.com/news/bitcoin-future-w...   \n",
       "3  https://cloudplatform.googleblog.com/2016/03/G...   \n",
       "4  https://bitcoinmagazine.com/articles/ibm-wants...   \n",
       "\n",
       "                                               title  \\\n",
       "0  Ethereum, a Virtual Currency, Enables Transact...   \n",
       "1  Ethereum, a Virtual Currency, Enables Transact...   \n",
       "2  Bitcoin Future: When GBPcoin of Branson Wins O...   \n",
       "3                       Google Data Center 360° Tour   \n",
       "4  IBM Wants to \"Evolve the Internet\" With Blockc...   \n",
       "\n",
       "                                                text lang  \n",
       "0  All of this work is still very early. The firs...   en  \n",
       "1  All of this work is still very early. The firs...   en  \n",
       "2  The alarm clock wakes me at 8:00 with stream o...   en  \n",
       "3  We're excited to share the Google Data Center ...   en  \n",
       "4  The Aite Group projects the blockchain market ...   en  "
      ]
     },
     "execution_count": 2,
     "metadata": {},
     "output_type": "execute_result"
    }
   ],
   "source": [
    "# Read data\n",
    "articles = pd.read_csv(\"./data/shared_articles.csv\", parse_dates=[\"timestamp\"])\n",
    "\n",
    "# Print first 5 rows \n",
    "print(\"\\nArticles dataframe:\")\n",
    "articles.head()"
   ]
  },
  {
   "cell_type": "markdown",
   "id": "5c4e17bc-e63b-4ca0-8af7-097e026e900a",
   "metadata": {},
   "source": [
    "___"
   ]
  },
  {
   "cell_type": "markdown",
   "id": "a3a28584-a2cb-43fc-a50f-7dc456acd33e",
   "metadata": {},
   "source": [
    "Timestamp is in *unix* format. Lets change it to datetime"
   ]
  },
  {
   "cell_type": "code",
   "execution_count": 3,
   "id": "8cef56b2-08b6-4858-8673-de0057886d66",
   "metadata": {},
   "outputs": [
    {
     "data": {
      "text/html": [
       "<div>\n",
       "<style scoped>\n",
       "    .dataframe tbody tr th:only-of-type {\n",
       "        vertical-align: middle;\n",
       "    }\n",
       "\n",
       "    .dataframe tbody tr th {\n",
       "        vertical-align: top;\n",
       "    }\n",
       "\n",
       "    .dataframe thead th {\n",
       "        text-align: right;\n",
       "    }\n",
       "</style>\n",
       "<table border=\"1\" class=\"dataframe\">\n",
       "  <thead>\n",
       "    <tr style=\"text-align: right;\">\n",
       "      <th></th>\n",
       "      <th>timestamp</th>\n",
       "      <th>eventType</th>\n",
       "      <th>contentId</th>\n",
       "      <th>authorPersonId</th>\n",
       "      <th>authorSessionId</th>\n",
       "      <th>authorUserAgent</th>\n",
       "      <th>authorRegion</th>\n",
       "      <th>authorCountry</th>\n",
       "      <th>contentType</th>\n",
       "      <th>url</th>\n",
       "      <th>title</th>\n",
       "      <th>text</th>\n",
       "      <th>lang</th>\n",
       "    </tr>\n",
       "  </thead>\n",
       "  <tbody>\n",
       "    <tr>\n",
       "      <th>0</th>\n",
       "      <td>2016-03-28 19:19:39</td>\n",
       "      <td>CONTENT REMOVED</td>\n",
       "      <td>-6451309518266745024</td>\n",
       "      <td>4340306774493623681</td>\n",
       "      <td>8940341205206233829</td>\n",
       "      <td>NaN</td>\n",
       "      <td>NaN</td>\n",
       "      <td>NaN</td>\n",
       "      <td>HTML</td>\n",
       "      <td>http://www.nytimes.com/2016/03/28/business/dea...</td>\n",
       "      <td>Ethereum, a Virtual Currency, Enables Transact...</td>\n",
       "      <td>All of this work is still very early. The firs...</td>\n",
       "      <td>en</td>\n",
       "    </tr>\n",
       "    <tr>\n",
       "      <th>1</th>\n",
       "      <td>2016-03-28 19:39:48</td>\n",
       "      <td>CONTENT SHARED</td>\n",
       "      <td>-4110354420726924665</td>\n",
       "      <td>4340306774493623681</td>\n",
       "      <td>8940341205206233829</td>\n",
       "      <td>NaN</td>\n",
       "      <td>NaN</td>\n",
       "      <td>NaN</td>\n",
       "      <td>HTML</td>\n",
       "      <td>http://www.nytimes.com/2016/03/28/business/dea...</td>\n",
       "      <td>Ethereum, a Virtual Currency, Enables Transact...</td>\n",
       "      <td>All of this work is still very early. The firs...</td>\n",
       "      <td>en</td>\n",
       "    </tr>\n",
       "    <tr>\n",
       "      <th>2</th>\n",
       "      <td>2016-03-28 19:42:26</td>\n",
       "      <td>CONTENT SHARED</td>\n",
       "      <td>-7292285110016212249</td>\n",
       "      <td>4340306774493623681</td>\n",
       "      <td>8940341205206233829</td>\n",
       "      <td>NaN</td>\n",
       "      <td>NaN</td>\n",
       "      <td>NaN</td>\n",
       "      <td>HTML</td>\n",
       "      <td>http://cointelegraph.com/news/bitcoin-future-w...</td>\n",
       "      <td>Bitcoin Future: When GBPcoin of Branson Wins O...</td>\n",
       "      <td>The alarm clock wakes me at 8:00 with stream o...</td>\n",
       "      <td>en</td>\n",
       "    </tr>\n",
       "    <tr>\n",
       "      <th>3</th>\n",
       "      <td>2016-03-28 19:47:54</td>\n",
       "      <td>CONTENT SHARED</td>\n",
       "      <td>-6151852268067518688</td>\n",
       "      <td>3891637997717104548</td>\n",
       "      <td>-1457532940883382585</td>\n",
       "      <td>NaN</td>\n",
       "      <td>NaN</td>\n",
       "      <td>NaN</td>\n",
       "      <td>HTML</td>\n",
       "      <td>https://cloudplatform.googleblog.com/2016/03/G...</td>\n",
       "      <td>Google Data Center 360° Tour</td>\n",
       "      <td>We're excited to share the Google Data Center ...</td>\n",
       "      <td>en</td>\n",
       "    </tr>\n",
       "    <tr>\n",
       "      <th>4</th>\n",
       "      <td>2016-03-28 19:48:17</td>\n",
       "      <td>CONTENT SHARED</td>\n",
       "      <td>2448026894306402386</td>\n",
       "      <td>4340306774493623681</td>\n",
       "      <td>8940341205206233829</td>\n",
       "      <td>NaN</td>\n",
       "      <td>NaN</td>\n",
       "      <td>NaN</td>\n",
       "      <td>HTML</td>\n",
       "      <td>https://bitcoinmagazine.com/articles/ibm-wants...</td>\n",
       "      <td>IBM Wants to \"Evolve the Internet\" With Blockc...</td>\n",
       "      <td>The Aite Group projects the blockchain market ...</td>\n",
       "      <td>en</td>\n",
       "    </tr>\n",
       "  </tbody>\n",
       "</table>\n",
       "</div>"
      ],
      "text/plain": [
       "            timestamp        eventType            contentId  \\\n",
       "0 2016-03-28 19:19:39  CONTENT REMOVED -6451309518266745024   \n",
       "1 2016-03-28 19:39:48   CONTENT SHARED -4110354420726924665   \n",
       "2 2016-03-28 19:42:26   CONTENT SHARED -7292285110016212249   \n",
       "3 2016-03-28 19:47:54   CONTENT SHARED -6151852268067518688   \n",
       "4 2016-03-28 19:48:17   CONTENT SHARED  2448026894306402386   \n",
       "\n",
       "        authorPersonId      authorSessionId authorUserAgent authorRegion  \\\n",
       "0  4340306774493623681  8940341205206233829             NaN          NaN   \n",
       "1  4340306774493623681  8940341205206233829             NaN          NaN   \n",
       "2  4340306774493623681  8940341205206233829             NaN          NaN   \n",
       "3  3891637997717104548 -1457532940883382585             NaN          NaN   \n",
       "4  4340306774493623681  8940341205206233829             NaN          NaN   \n",
       "\n",
       "  authorCountry contentType  \\\n",
       "0           NaN        HTML   \n",
       "1           NaN        HTML   \n",
       "2           NaN        HTML   \n",
       "3           NaN        HTML   \n",
       "4           NaN        HTML   \n",
       "\n",
       "                                                 url  \\\n",
       "0  http://www.nytimes.com/2016/03/28/business/dea...   \n",
       "1  http://www.nytimes.com/2016/03/28/business/dea...   \n",
       "2  http://cointelegraph.com/news/bitcoin-future-w...   \n",
       "3  https://cloudplatform.googleblog.com/2016/03/G...   \n",
       "4  https://bitcoinmagazine.com/articles/ibm-wants...   \n",
       "\n",
       "                                               title  \\\n",
       "0  Ethereum, a Virtual Currency, Enables Transact...   \n",
       "1  Ethereum, a Virtual Currency, Enables Transact...   \n",
       "2  Bitcoin Future: When GBPcoin of Branson Wins O...   \n",
       "3                       Google Data Center 360° Tour   \n",
       "4  IBM Wants to \"Evolve the Internet\" With Blockc...   \n",
       "\n",
       "                                                text lang  \n",
       "0  All of this work is still very early. The firs...   en  \n",
       "1  All of this work is still very early. The firs...   en  \n",
       "2  The alarm clock wakes me at 8:00 with stream o...   en  \n",
       "3  We're excited to share the Google Data Center ...   en  \n",
       "4  The Aite Group projects the blockchain market ...   en  "
      ]
     },
     "execution_count": 3,
     "metadata": {},
     "output_type": "execute_result"
    }
   ],
   "source": [
    "articles[\"timestamp\"] = pd.to_datetime(articles[\"timestamp\"], unit=\"s\")\n",
    "articles.head()"
   ]
  },
  {
   "cell_type": "markdown",
   "id": "af580b1d-3f10-40db-9027-ed25d613f148",
   "metadata": {},
   "source": [
    "___"
   ]
  },
  {
   "cell_type": "code",
   "execution_count": 6,
   "id": "4336b417-0944-4cac-8150-e645ba485c6f",
   "metadata": {
    "tags": []
   },
   "outputs": [
    {
     "data": {
      "text/html": [
       "<div>\n",
       "<style scoped>\n",
       "    .dataframe tbody tr th:only-of-type {\n",
       "        vertical-align: middle;\n",
       "    }\n",
       "\n",
       "    .dataframe tbody tr th {\n",
       "        vertical-align: top;\n",
       "    }\n",
       "\n",
       "    .dataframe thead th {\n",
       "        text-align: right;\n",
       "    }\n",
       "</style>\n",
       "<table border=\"1\" class=\"dataframe\">\n",
       "  <thead>\n",
       "    <tr style=\"text-align: right;\">\n",
       "      <th></th>\n",
       "      <th>Column</th>\n",
       "      <th>Not-NaN values</th>\n",
       "      <th>Unique values</th>\n",
       "      <th>Dtype</th>\n",
       "    </tr>\n",
       "  </thead>\n",
       "  <tbody>\n",
       "    <tr>\n",
       "      <th>0</th>\n",
       "      <td>timestamp</td>\n",
       "      <td>3122</td>\n",
       "      <td>3121</td>\n",
       "      <td>datetime64[ns]</td>\n",
       "    </tr>\n",
       "    <tr>\n",
       "      <th>1</th>\n",
       "      <td>eventType</td>\n",
       "      <td>3122</td>\n",
       "      <td>2</td>\n",
       "      <td>object</td>\n",
       "    </tr>\n",
       "    <tr>\n",
       "      <th>2</th>\n",
       "      <td>contentId</td>\n",
       "      <td>3122</td>\n",
       "      <td>3057</td>\n",
       "      <td>int64</td>\n",
       "    </tr>\n",
       "    <tr>\n",
       "      <th>3</th>\n",
       "      <td>authorPersonId</td>\n",
       "      <td>3122</td>\n",
       "      <td>252</td>\n",
       "      <td>int64</td>\n",
       "    </tr>\n",
       "    <tr>\n",
       "      <th>4</th>\n",
       "      <td>authorSessionId</td>\n",
       "      <td>3122</td>\n",
       "      <td>2017</td>\n",
       "      <td>int64</td>\n",
       "    </tr>\n",
       "    <tr>\n",
       "      <th>5</th>\n",
       "      <td>authorUserAgent</td>\n",
       "      <td>680</td>\n",
       "      <td>115</td>\n",
       "      <td>object</td>\n",
       "    </tr>\n",
       "    <tr>\n",
       "      <th>6</th>\n",
       "      <td>authorRegion</td>\n",
       "      <td>680</td>\n",
       "      <td>20</td>\n",
       "      <td>object</td>\n",
       "    </tr>\n",
       "    <tr>\n",
       "      <th>7</th>\n",
       "      <td>authorCountry</td>\n",
       "      <td>680</td>\n",
       "      <td>6</td>\n",
       "      <td>object</td>\n",
       "    </tr>\n",
       "    <tr>\n",
       "      <th>8</th>\n",
       "      <td>contentType</td>\n",
       "      <td>3122</td>\n",
       "      <td>3</td>\n",
       "      <td>object</td>\n",
       "    </tr>\n",
       "    <tr>\n",
       "      <th>9</th>\n",
       "      <td>url</td>\n",
       "      <td>3122</td>\n",
       "      <td>3029</td>\n",
       "      <td>object</td>\n",
       "    </tr>\n",
       "    <tr>\n",
       "      <th>10</th>\n",
       "      <td>title</td>\n",
       "      <td>3122</td>\n",
       "      <td>3011</td>\n",
       "      <td>object</td>\n",
       "    </tr>\n",
       "    <tr>\n",
       "      <th>11</th>\n",
       "      <td>text</td>\n",
       "      <td>3122</td>\n",
       "      <td>3019</td>\n",
       "      <td>object</td>\n",
       "    </tr>\n",
       "    <tr>\n",
       "      <th>12</th>\n",
       "      <td>lang</td>\n",
       "      <td>3122</td>\n",
       "      <td>5</td>\n",
       "      <td>object</td>\n",
       "    </tr>\n",
       "  </tbody>\n",
       "</table>\n",
       "</div>"
      ],
      "text/plain": [
       "             Column  Not-NaN values  Unique values           Dtype\n",
       "0         timestamp            3122           3121  datetime64[ns]\n",
       "1         eventType            3122              2          object\n",
       "2         contentId            3122           3057           int64\n",
       "3    authorPersonId            3122            252           int64\n",
       "4   authorSessionId            3122           2017           int64\n",
       "5   authorUserAgent             680            115          object\n",
       "6      authorRegion             680             20          object\n",
       "7     authorCountry             680              6          object\n",
       "8       contentType            3122              3          object\n",
       "9               url            3122           3029          object\n",
       "10            title            3122           3011          object\n",
       "11             text            3122           3019          object\n",
       "12             lang            3122              5          object"
      ]
     },
     "execution_count": 6,
     "metadata": {},
     "output_type": "execute_result"
    }
   ],
   "source": [
    "# View number of unique values:\n",
    "t = []\n",
    "for col in articles.columns:\n",
    "    t.append([col, pd.notna(articles[col]).sum(), len(articles[col].unique())])\n",
    "t = pd.DataFrame(t, columns=[\"Column\", \"Not-NaN values\", \"Unique values\"])\n",
    "t[\"Dtype\"] = list(articles.dtypes)\n",
    "t"
   ]
  },
  {
   "cell_type": "markdown",
   "id": "96e5b917-3786-418c-b9be-37cea182eab5",
   "metadata": {},
   "source": [
    "___"
   ]
  },
  {
   "cell_type": "code",
   "execution_count": 7,
   "id": "2610bf51-f6d9-4c7c-bc56-851c952df3a4",
   "metadata": {},
   "outputs": [
    {
     "data": {
      "text/plain": [
       "<BarContainer object of 5 artists>"
      ]
     },
     "execution_count": 7,
     "metadata": {},
     "output_type": "execute_result"
    },
    {
     "data": {
      "image/png": "[encoded data removed]",
      "text/plain": [
       "<Figure size 432x288 with 1 Axes>"
      ]
     },
     "metadata": {
      "needs_background": "light"
     },
     "output_type": "display_data"
    }
   ],
   "source": [
    "# Articles language\n",
    "plt.bar(articles[\"lang\"].value_counts().index, articles[\"lang\"].value_counts())"
   ]
  },
  {
   "cell_type": "markdown",
   "id": "e06e40b6-bacd-400a-8341-a13e1aab168f",
   "metadata": {},
   "source": [
    "___"
   ]
  },
  {
   "cell_type": "code",
   "execution_count": 8,
   "id": "1a9d4c8f-fc6b-40ff-b903-149893092371",
   "metadata": {},
   "outputs": [
    {
     "name": "stdout",
     "output_type": "stream",
     "text": [
      "\n",
      "Missing values in interactions dataframe:\n"
     ]
    },
    {
     "data": {
      "image/png": "[encoded data removed]",
      "text/plain": [
       "<Figure size 1800x720 with 2 Axes>"
      ]
     },
     "metadata": {
      "needs_background": "light"
     },
     "output_type": "display_data"
    }
   ],
   "source": [
    "# View missing values in the dataframe\n",
    "print(\"\\nMissing values in interactions dataframe:\")\n",
    "fig = msno.matrix(articles)\n",
    "plt.show()"
   ]
  },
  {
   "cell_type": "markdown",
   "id": "d0721a0b-468d-4ab0-81e4-80bda5773288",
   "metadata": {},
   "source": [
    "___"
   ]
  },
  {
   "cell_type": "code",
   "execution_count": 9,
   "id": "fd3dd6cb-9a0d-45b8-ad85-6346349e9dc8",
   "metadata": {},
   "outputs": [
    {
     "name": "stdout",
     "output_type": "stream",
     "text": [
      "There are around 9 words in each title\n"
     ]
    }
   ],
   "source": [
    "# Average length of title\n",
    "title_words = articles[\"title\"].str.count(\" \") + 1\n",
    "print(f\"There are around {title_words.mean():.0f} words in each title\")"
   ]
  },
  {
   "cell_type": "code",
   "execution_count": 10,
   "id": "4c86da67-90b9-465c-b3c1-eed9f93e1301",
   "metadata": {},
   "outputs": [
    {
     "data": {
      "image/png": "[encoded data removed]",
      "text/plain": [
       "<Figure size 432x288 with 1 Axes>"
      ]
     },
     "metadata": {
      "needs_background": "light"
     },
     "output_type": "display_data"
    }
   ],
   "source": [
    "# Title length in words\n",
    "fig = sns.distplot(title_words, bins=20)"
   ]
  },
  {
   "cell_type": "markdown",
   "id": "95e01f11-8962-470a-8e6e-588a5e2fe8ac",
   "metadata": {},
   "source": [
    "___"
   ]
  },
  {
   "cell_type": "code",
   "execution_count": 11,
   "id": "47841242-cdce-4851-941b-fce307762c10",
   "metadata": {},
   "outputs": [
    {
     "name": "stdout",
     "output_type": "stream",
     "text": [
      "There are around 899 words in each article\n"
     ]
    }
   ],
   "source": [
    "# Average length of text\n",
    "text_words = articles[\"text\"].str.count(\" \") + 1\n",
    "print(f\"There are around {text_words.mean():.0f} words in each article\")"
   ]
  },
  {
   "cell_type": "code",
   "execution_count": 12,
   "id": "68c95321-1822-4419-a716-4bbb7b0a5f64",
   "metadata": {},
   "outputs": [
    {
     "data": {
      "image/png": "[encoded data removed]",
      "text/plain": [
       "<Figure size 432x288 with 1 Axes>"
      ]
     },
     "metadata": {
      "needs_background": "light"
     },
     "output_type": "display_data"
    }
   ],
   "source": [
    "# Title length in words\n",
    "fig = sns.distplot(text_words, bins=20)"
   ]
  },
  {
   "cell_type": "markdown",
   "id": "8d86ba70-865c-4262-9bf7-da1c3f45f928",
   "metadata": {},
   "source": [
    "___"
   ]
  },
  {
   "cell_type": "code",
   "execution_count": 13,
   "id": "9789a466-520a-4dcf-9551-1721544e41bb",
   "metadata": {},
   "outputs": [
    {
     "name": "stdout",
     "output_type": "stream",
     "text": [
      "View correlation between title length and article length:\n"
     ]
    },
    {
     "data": {
      "text/html": [
       "<div>\n",
       "<style scoped>\n",
       "    .dataframe tbody tr th:only-of-type {\n",
       "        vertical-align: middle;\n",
       "    }\n",
       "\n",
       "    .dataframe tbody tr th {\n",
       "        vertical-align: top;\n",
       "    }\n",
       "\n",
       "    .dataframe thead th {\n",
       "        text-align: right;\n",
       "    }\n",
       "</style>\n",
       "<table border=\"1\" class=\"dataframe\">\n",
       "  <thead>\n",
       "    <tr style=\"text-align: right;\">\n",
       "      <th></th>\n",
       "      <th>title words</th>\n",
       "      <th>text words</th>\n",
       "    </tr>\n",
       "  </thead>\n",
       "  <tbody>\n",
       "    <tr>\n",
       "      <th>title words</th>\n",
       "      <td>1.00000</td>\n",
       "      <td>-0.09859</td>\n",
       "    </tr>\n",
       "    <tr>\n",
       "      <th>text words</th>\n",
       "      <td>-0.09859</td>\n",
       "      <td>1.00000</td>\n",
       "    </tr>\n",
       "  </tbody>\n",
       "</table>\n",
       "</div>"
      ],
      "text/plain": [
       "             title words  text words\n",
       "title words      1.00000    -0.09859\n",
       "text words      -0.09859     1.00000"
      ]
     },
     "execution_count": 13,
     "metadata": {},
     "output_type": "execute_result"
    },
    {
     "name": "stdout",
     "output_type": "stream",
     "text": [
      "Heatmap:\n"
     ]
    },
    {
     "data": {
      "image/png": "[encoded data removed]",
      "text/plain": [
       "<Figure size 432x288 with 2 Axes>"
      ]
     },
     "metadata": {
      "needs_background": "light"
     },
     "output_type": "display_data"
    }
   ],
   "source": [
    "# View correlation between title length and article length\n",
    "df = pd.concat([title_words, text_words], ignore_index=True, axis=1)\n",
    "df.columns = [\"title words\", \"text words\"]\n",
    "print(\"View correlation between title length and article length:\")\n",
    "df.corr(method=\"pearson\")\n",
    "print(\"Heatmap:\")\n",
    "fig = sns.heatmap(df.corr(method=\"pearson\"))"
   ]
  },
  {
   "cell_type": "markdown",
   "id": "78311281-931f-4742-8090-13ac637827e7",
   "metadata": {},
   "source": [
    "There is no significant correlation between title and article length."
   ]
  },
  {
   "cell_type": "markdown",
   "id": "cdd4d791-b335-469e-b6b2-aa39963472fa",
   "metadata": {},
   "source": [
    "___"
   ]
  },
  {
   "cell_type": "code",
   "execution_count": 14,
   "id": "3177094f-6b00-41ac-8d8f-4594f92af55d",
   "metadata": {},
   "outputs": [
    {
     "name": "stdout",
     "output_type": "stream",
     "text": [
      "There are 3122 records in this dataframe.\n"
     ]
    }
   ],
   "source": [
    "# Number of records in dataframe:\n",
    "print(f\"There are {len(articles)} records in this dataframe.\")"
   ]
  },
  {
   "cell_type": "markdown",
   "id": "6e18fae4-cefe-4cca-94c8-dcb05f3a79e4",
   "metadata": {},
   "source": [
    "___"
   ]
  },
  {
   "cell_type": "code",
   "execution_count": 15,
   "id": "a3e9248e-2c26-4167-965f-38e7908208e3",
   "metadata": {},
   "outputs": [
    {
     "data": {
      "text/plain": [
       "Text(0.5, 1.0, 'Authors by country')"
      ]
     },
     "execution_count": 15,
     "metadata": {},
     "output_type": "execute_result"
    },
    {
     "data": {
      "image/png": "[encoded data removed]",
      "text/plain": [
       "<Figure size 432x288 with 1 Axes>"
      ]
     },
     "metadata": {
      "needs_background": "light"
     },
     "output_type": "display_data"
    }
   ],
   "source": [
    "# View authors by country\n",
    "data = articles[\"authorCountry\"].value_counts()\n",
    "fig = plt.bar(x = data.index, \n",
    "              height = data,\n",
    "              color=[\"b\", \"g\", \"r\", \"m\", \"c\"])\n",
    "plt.title(\"Authors by country\")\n",
    "plt.show()"
   ]
  },
  {
   "cell_type": "markdown",
   "id": "2ba90a1a-a7af-4106-91a2-9c61eba05ed1",
   "metadata": {},
   "source": [
    "___"
   ]
  },
  {
   "cell_type": "code",
   "execution_count": 16,
   "id": "27b5dbf4-5ee6-4b25-96f0-2341b33d6863",
   "metadata": {},
   "outputs": [
    {
     "name": "stdout",
     "output_type": "stream",
     "text": [
      "Authors by region\n"
     ]
    },
    {
     "data": {
      "text/plain": [
       "SP     533\n",
       "MG      75\n",
       "NY      20\n",
       "NJ      16\n",
       "GA       7\n",
       "IL       6\n",
       "ON       4\n",
       "RJ       4\n",
       "NSW      2\n",
       "TX       2\n",
       "?        2\n",
       "SC       2\n",
       "RI       1\n",
       "AB       1\n",
       "FL       1\n",
       "13       1\n",
       "WA       1\n",
       "CA       1\n",
       "MS       1\n",
       "Name: authorRegion, dtype: int64"
      ]
     },
     "execution_count": 16,
     "metadata": {},
     "output_type": "execute_result"
    }
   ],
   "source": [
    "print(\"Authors by region\")\n",
    "articles[\"authorRegion\"].value_counts()"
   ]
  },
  {
   "cell_type": "markdown",
   "id": "d7f92906-fcdb-44be-a73a-f960ed27dbee",
   "metadata": {},
   "source": [
    "___"
   ]
  },
  {
   "cell_type": "code",
   "execution_count": 17,
   "id": "285e9361-156a-4d0d-b6bd-cd7c04c280a9",
   "metadata": {},
   "outputs": [
    {
     "name": "stdout",
     "output_type": "stream",
     "text": [
      "Event types:\n"
     ]
    },
    {
     "data": {
      "text/plain": [
       "CONTENT SHARED     3047\n",
       "CONTENT REMOVED      75\n",
       "Name: eventType, dtype: int64"
      ]
     },
     "execution_count": 17,
     "metadata": {},
     "output_type": "execute_result"
    }
   ],
   "source": [
    "# View event types\n",
    "print(\"Event types:\")\n",
    "articles[\"eventType\"].value_counts()"
   ]
  },
  {
   "cell_type": "markdown",
   "id": "c1c199fb-0a63-4109-94fd-31260629065f",
   "metadata": {},
   "source": [
    "___"
   ]
  },
  {
   "cell_type": "code",
   "execution_count": 18,
   "id": "96434bfc-9414-4ae7-8379-35aa2bfb0234",
   "metadata": {},
   "outputs": [
    {
     "name": "stdout",
     "output_type": "stream",
     "text": [
      "Articles content type:\n"
     ]
    },
    {
     "data": {
      "text/plain": [
       "HTML     3101\n",
       "VIDEO      11\n",
       "RICH       10\n",
       "Name: contentType, dtype: int64"
      ]
     },
     "execution_count": 18,
     "metadata": {},
     "output_type": "execute_result"
    }
   ],
   "source": [
    "# View articles content type\n",
    "print(\"Articles content type:\")\n",
    "articles[\"contentType\"].value_counts()"
   ]
  },
  {
   "cell_type": "markdown",
   "id": "7d619ce2-3df8-4264-bc2f-254958c0542a",
   "metadata": {},
   "source": [
    "### **Interactions file EDA:**"
   ]
  },
  {
   "cell_type": "code",
   "execution_count": 19,
   "id": "0903491c-845a-4e7e-bf68-e2e003984c44",
   "metadata": {},
   "outputs": [
    {
     "name": "stdout",
     "output_type": "stream",
     "text": [
      "\n",
      "Interactions dataframe:\n"
     ]
    },
    {
     "data": {
      "text/html": [
       "<div>\n",
       "<style scoped>\n",
       "    .dataframe tbody tr th:only-of-type {\n",
       "        vertical-align: middle;\n",
       "    }\n",
       "\n",
       "    .dataframe tbody tr th {\n",
       "        vertical-align: top;\n",
       "    }\n",
       "\n",
       "    .dataframe thead th {\n",
       "        text-align: right;\n",
       "    }\n",
       "</style>\n",
       "<table border=\"1\" class=\"dataframe\">\n",
       "  <thead>\n",
       "    <tr style=\"text-align: right;\">\n",
       "      <th></th>\n",
       "      <th>timestamp</th>\n",
       "      <th>eventType</th>\n",
       "      <th>contentId</th>\n",
       "      <th>personId</th>\n",
       "      <th>sessionId</th>\n",
       "      <th>userAgent</th>\n",
       "      <th>userRegion</th>\n",
       "      <th>userCountry</th>\n",
       "    </tr>\n",
       "  </thead>\n",
       "  <tbody>\n",
       "    <tr>\n",
       "      <th>0</th>\n",
       "      <td>1465413032</td>\n",
       "      <td>VIEW</td>\n",
       "      <td>-3499919498720038879</td>\n",
       "      <td>-8845298781299428018</td>\n",
       "      <td>1264196770339959068</td>\n",
       "      <td>NaN</td>\n",
       "      <td>NaN</td>\n",
       "      <td>NaN</td>\n",
       "    </tr>\n",
       "    <tr>\n",
       "      <th>1</th>\n",
       "      <td>1465412560</td>\n",
       "      <td>VIEW</td>\n",
       "      <td>8890720798209849691</td>\n",
       "      <td>-1032019229384696495</td>\n",
       "      <td>3621737643587579081</td>\n",
       "      <td>Mozilla/5.0 (Macintosh; Intel Mac OS X 10_11_2...</td>\n",
       "      <td>NY</td>\n",
       "      <td>US</td>\n",
       "    </tr>\n",
       "    <tr>\n",
       "      <th>2</th>\n",
       "      <td>1465416190</td>\n",
       "      <td>VIEW</td>\n",
       "      <td>310515487419366995</td>\n",
       "      <td>-1130272294246983140</td>\n",
       "      <td>2631864456530402479</td>\n",
       "      <td>NaN</td>\n",
       "      <td>NaN</td>\n",
       "      <td>NaN</td>\n",
       "    </tr>\n",
       "    <tr>\n",
       "      <th>3</th>\n",
       "      <td>1465413895</td>\n",
       "      <td>FOLLOW</td>\n",
       "      <td>310515487419366995</td>\n",
       "      <td>344280948527967603</td>\n",
       "      <td>-3167637573980064150</td>\n",
       "      <td>NaN</td>\n",
       "      <td>NaN</td>\n",
       "      <td>NaN</td>\n",
       "    </tr>\n",
       "    <tr>\n",
       "      <th>4</th>\n",
       "      <td>1465412290</td>\n",
       "      <td>VIEW</td>\n",
       "      <td>-7820640624231356730</td>\n",
       "      <td>-445337111692715325</td>\n",
       "      <td>5611481178424124714</td>\n",
       "      <td>NaN</td>\n",
       "      <td>NaN</td>\n",
       "      <td>NaN</td>\n",
       "    </tr>\n",
       "  </tbody>\n",
       "</table>\n",
       "</div>"
      ],
      "text/plain": [
       "    timestamp eventType            contentId             personId  \\\n",
       "0  1465413032      VIEW -3499919498720038879 -8845298781299428018   \n",
       "1  1465412560      VIEW  8890720798209849691 -1032019229384696495   \n",
       "2  1465416190      VIEW   310515487419366995 -1130272294246983140   \n",
       "3  1465413895    FOLLOW   310515487419366995   344280948527967603   \n",
       "4  1465412290      VIEW -7820640624231356730  -445337111692715325   \n",
       "\n",
       "             sessionId                                          userAgent  \\\n",
       "0  1264196770339959068                                                NaN   \n",
       "1  3621737643587579081  Mozilla/5.0 (Macintosh; Intel Mac OS X 10_11_2...   \n",
       "2  2631864456530402479                                                NaN   \n",
       "3 -3167637573980064150                                                NaN   \n",
       "4  5611481178424124714                                                NaN   \n",
       "\n",
       "  userRegion userCountry  \n",
       "0        NaN         NaN  \n",
       "1         NY          US  \n",
       "2        NaN         NaN  \n",
       "3        NaN         NaN  \n",
       "4        NaN         NaN  "
      ]
     },
     "execution_count": 19,
     "metadata": {},
     "output_type": "execute_result"
    }
   ],
   "source": [
    "interactions = pd.read_csv(\"./data/users_interactions.csv\")\n",
    "\n",
    "print(\"\\nInteractions dataframe:\")\n",
    "interactions.head()"
   ]
  },
  {
   "cell_type": "code",
   "execution_count": 20,
   "id": "19993950-6573-4210-92db-15f759e130df",
   "metadata": {},
   "outputs": [
    {
     "name": "stdout",
     "output_type": "stream",
     "text": [
      "\n",
      "Missing values in interactions dataframe:\n"
     ]
    },
    {
     "data": {
      "image/png": "[encoded data removed]",
      "text/plain": [
       "<Figure size 1800x720 with 2 Axes>"
      ]
     },
     "metadata": {
      "needs_background": "light"
     },
     "output_type": "display_data"
    }
   ],
   "source": [
    "# View missing values in the dataframe\n",
    "print(\"\\nMissing values in interactions dataframe:\")\n",
    "fig = msno.matrix(interactions)\n",
    "plt.show()"
   ]
  },
  {
   "cell_type": "code",
   "execution_count": 21,
   "id": "f4a97fda-c9e9-4dc0-becb-d7b852235661",
   "metadata": {
    "tags": []
   },
   "outputs": [
    {
     "data": {
      "text/html": [
       "<div>\n",
       "<style scoped>\n",
       "    .dataframe tbody tr th:only-of-type {\n",
       "        vertical-align: middle;\n",
       "    }\n",
       "\n",
       "    .dataframe tbody tr th {\n",
       "        vertical-align: top;\n",
       "    }\n",
       "\n",
       "    .dataframe thead th {\n",
       "        text-align: right;\n",
       "    }\n",
       "</style>\n",
       "<table border=\"1\" class=\"dataframe\">\n",
       "  <thead>\n",
       "    <tr style=\"text-align: right;\">\n",
       "      <th></th>\n",
       "      <th>Column</th>\n",
       "      <th>Not-NaN values</th>\n",
       "      <th>Unique values</th>\n",
       "      <th>Dtype</th>\n",
       "    </tr>\n",
       "  </thead>\n",
       "  <tbody>\n",
       "    <tr>\n",
       "      <th>0</th>\n",
       "      <td>timestamp</td>\n",
       "      <td>72312</td>\n",
       "      <td>68772</td>\n",
       "      <td>int64</td>\n",
       "    </tr>\n",
       "    <tr>\n",
       "      <th>1</th>\n",
       "      <td>eventType</td>\n",
       "      <td>72312</td>\n",
       "      <td>5</td>\n",
       "      <td>object</td>\n",
       "    </tr>\n",
       "    <tr>\n",
       "      <th>2</th>\n",
       "      <td>contentId</td>\n",
       "      <td>72312</td>\n",
       "      <td>2987</td>\n",
       "      <td>int64</td>\n",
       "    </tr>\n",
       "    <tr>\n",
       "      <th>3</th>\n",
       "      <td>personId</td>\n",
       "      <td>72312</td>\n",
       "      <td>1895</td>\n",
       "      <td>int64</td>\n",
       "    </tr>\n",
       "    <tr>\n",
       "      <th>4</th>\n",
       "      <td>sessionId</td>\n",
       "      <td>72312</td>\n",
       "      <td>28740</td>\n",
       "      <td>int64</td>\n",
       "    </tr>\n",
       "    <tr>\n",
       "      <th>5</th>\n",
       "      <td>userAgent</td>\n",
       "      <td>56918</td>\n",
       "      <td>1091</td>\n",
       "      <td>object</td>\n",
       "    </tr>\n",
       "    <tr>\n",
       "      <th>6</th>\n",
       "      <td>userRegion</td>\n",
       "      <td>56907</td>\n",
       "      <td>72</td>\n",
       "      <td>object</td>\n",
       "    </tr>\n",
       "    <tr>\n",
       "      <th>7</th>\n",
       "      <td>userCountry</td>\n",
       "      <td>56918</td>\n",
       "      <td>24</td>\n",
       "      <td>object</td>\n",
       "    </tr>\n",
       "  </tbody>\n",
       "</table>\n",
       "</div>"
      ],
      "text/plain": [
       "        Column  Not-NaN values  Unique values   Dtype\n",
       "0    timestamp           72312          68772   int64\n",
       "1    eventType           72312              5  object\n",
       "2    contentId           72312           2987   int64\n",
       "3     personId           72312           1895   int64\n",
       "4    sessionId           72312          28740   int64\n",
       "5    userAgent           56918           1091  object\n",
       "6   userRegion           56907             72  object\n",
       "7  userCountry           56918             24  object"
      ]
     },
     "execution_count": 21,
     "metadata": {},
     "output_type": "execute_result"
    }
   ],
   "source": [
    "# View number of unique values:\n",
    "t = []\n",
    "for col in interactions.columns:\n",
    "    t.append([col, pd.notna(interactions[col]).sum(), len(interactions[col].unique())])\n",
    "t = pd.DataFrame(t, columns=[\"Column\", \"Not-NaN values\", \"Unique values\"])\n",
    "t[\"Dtype\"] = list(interactions.dtypes)\n",
    "t"
   ]
  },
  {
   "cell_type": "markdown",
   "id": "2a0af06b-b8f8-4f76-b972-d3e8781bd9d9",
   "metadata": {},
   "source": [
    " Note there are 1895 unique *personId*"
   ]
  },
  {
   "cell_type": "code",
   "execution_count": 22,
   "id": "04406acf-c1e3-47f4-a328-097b33ae5b71",
   "metadata": {},
   "outputs": [
    {
     "data": {
      "image/png": "[encoded data removed]",
      "text/plain": [
       "<Figure size 576x576 with 1 Axes>"
      ]
     },
     "metadata": {},
     "output_type": "display_data"
    }
   ],
   "source": [
    "data = interactions[\"eventType\"].value_counts()\n",
    "labels = data.index\n",
    "\n",
    "fig = plt.subplots(figsize=(8,8))\n",
    "fig = plt.pie(data, \n",
    "              labels=labels, \n",
    "              \n",
    "              autopct='%.0f%%')\n",
    "fig = plt.title(\"User interaction event by type:\")\n",
    "plt.show()"
   ]
  },
  {
   "cell_type": "code",
   "execution_count": 23,
   "id": "d3da2629-c2ce-48ee-9e02-68eb1151b62e",
   "metadata": {},
   "outputs": [
    {
     "name": "stdout",
     "output_type": "stream",
     "text": [
      "Users by region:\n"
     ]
    },
    {
     "data": {
      "text/plain": [
       "SP    40164\n",
       "MG    10229\n",
       "NY     1257\n",
       "TX      923\n",
       "GA      910\n",
       "      ...  \n",
       "R         1\n",
       "CE        1\n",
       "NH        1\n",
       "MN        1\n",
       "CL        1\n",
       "Name: userRegion, Length: 71, dtype: int64"
      ]
     },
     "execution_count": 23,
     "metadata": {},
     "output_type": "execute_result"
    }
   ],
   "source": [
    "# View user regions\n",
    "print(\"Users by region:\")\n",
    "interactions[\"userRegion\"].value_counts()"
   ]
  },
  {
   "cell_type": "code",
   "execution_count": 24,
   "id": "2f469169-9f94-4a99-ae86-f3378115c98c",
   "metadata": {},
   "outputs": [
    {
     "name": "stdout",
     "output_type": "stream",
     "text": [
      "Users by country:\n"
     ]
    },
    {
     "data": {
      "text/plain": [
       "BR    51396\n",
       "US     4657\n",
       "KR      239\n",
       "CA      226\n",
       "JP      144\n",
       "AU      138\n",
       "GB       22\n",
       "DE       19\n",
       "IE       14\n",
       "IS       13\n",
       "ZZ       11\n",
       "SG       11\n",
       "AR        7\n",
       "PT        6\n",
       "ES        3\n",
       "IN        3\n",
       "MY        2\n",
       "IT        2\n",
       "CN        1\n",
       "NL        1\n",
       "CL        1\n",
       "CO        1\n",
       "CH        1\n",
       "Name: userCountry, dtype: int64"
      ]
     },
     "execution_count": 24,
     "metadata": {},
     "output_type": "execute_result"
    }
   ],
   "source": [
    "# View user country\n",
    "print(\"Users by country:\")\n",
    "interactions[\"userCountry\"].value_counts()"
   ]
  },
  {
   "cell_type": "markdown",
   "id": "d47b85da-b42d-495b-94e3-8a0670573405",
   "metadata": {},
   "source": [
    "<a id=4></a>  \n",
    "\n",
    "<div style=\"padding:15px;\n",
    "            color:white;\n",
    "            margin:0;\n",
    "            font-size:200%;\n",
    "            text-align:center;\n",
    "            display:fill;\n",
    "            border-radius:5px;\n",
    "            background-color:#5f0f40;\n",
    "            overflow:hidden;\n",
    "            font-weight:500\">\n",
    "       4. Data preprocessing\n",
    "</div>  "
   ]
  },
  {
   "cell_type": "markdown",
   "id": "df106e93-8c45-4760-9e35-fd0756991e4b",
   "metadata": {},
   "source": [
    "[go on top](#0)\n",
    "<br>[go previous chapter ↑](#3)\n",
    "<br>[go next chapter ↓](#5)"
   ]
  },
  {
   "cell_type": "markdown",
   "id": "ef32feec-f816-4549-baf7-2253002acde0",
   "metadata": {},
   "source": [
    "Assign importnace to users interactions:"
   ]
  },
  {
   "cell_type": "code",
   "execution_count": 25,
   "id": "0987d5f9-c3d6-4e4b-8a4f-19a35067ea89",
   "metadata": {},
   "outputs": [
    {
     "data": {
      "text/html": [
       "<div>\n",
       "<style scoped>\n",
       "    .dataframe tbody tr th:only-of-type {\n",
       "        vertical-align: middle;\n",
       "    }\n",
       "\n",
       "    .dataframe tbody tr th {\n",
       "        vertical-align: top;\n",
       "    }\n",
       "\n",
       "    .dataframe thead th {\n",
       "        text-align: right;\n",
       "    }\n",
       "</style>\n",
       "<table border=\"1\" class=\"dataframe\">\n",
       "  <thead>\n",
       "    <tr style=\"text-align: right;\">\n",
       "      <th></th>\n",
       "      <th>Event_Strength</th>\n",
       "      <th>eventType</th>\n",
       "    </tr>\n",
       "  </thead>\n",
       "  <tbody>\n",
       "    <tr>\n",
       "      <th>0</th>\n",
       "      <td>1.0</td>\n",
       "      <td>VIEW</td>\n",
       "    </tr>\n",
       "    <tr>\n",
       "      <th>1</th>\n",
       "      <td>1.0</td>\n",
       "      <td>VIEW</td>\n",
       "    </tr>\n",
       "    <tr>\n",
       "      <th>2</th>\n",
       "      <td>1.0</td>\n",
       "      <td>VIEW</td>\n",
       "    </tr>\n",
       "    <tr>\n",
       "      <th>3</th>\n",
       "      <td>4.0</td>\n",
       "      <td>FOLLOW</td>\n",
       "    </tr>\n",
       "    <tr>\n",
       "      <th>4</th>\n",
       "      <td>1.0</td>\n",
       "      <td>VIEW</td>\n",
       "    </tr>\n",
       "  </tbody>\n",
       "</table>\n",
       "</div>"
      ],
      "text/plain": [
       "   Event_Strength eventType\n",
       "0             1.0      VIEW\n",
       "1             1.0      VIEW\n",
       "2             1.0      VIEW\n",
       "3             4.0    FOLLOW\n",
       "4             1.0      VIEW"
      ]
     },
     "execution_count": 25,
     "metadata": {},
     "output_type": "execute_result"
    }
   ],
   "source": [
    "# Dictionary with relationship event-strength\n",
    "event_type_strength = {\n",
    "    \"VIEW\" : 1.0,\n",
    "    \"LIKE\" : 2.0, \n",
    "    \"COMMENT CREATED\" : 2.0,\n",
    "    \"BOOKMARK\" : 3.0,\n",
    "    \"FOLLOW\"  : 4.0,\n",
    "    }\n",
    "\n",
    "# New column with event strength\n",
    "interactions[\"Event_Strength\"] = interactions[\"eventType\"].apply(lambda x: event_type_strength[x])\n",
    "\n",
    "# View 5 rows \n",
    "interactions[[\"Event_Strength\", \"eventType\"]].head()"
   ]
  },
  {
   "cell_type": "markdown",
   "id": "2823fa3e-587a-4445-9f09-0f97a0fc7ace",
   "metadata": {},
   "source": [
    "Recommender systems are known for their cold-start problem which comes from the dificultly to make recommendations to new users. To avoid this I will select only the users who have at least 5 interactions."
   ]
  },
  {
   "cell_type": "code",
   "execution_count": 26,
   "id": "58939c5f-e3f2-4d44-b711-b21c2237cc16",
   "metadata": {},
   "outputs": [
    {
     "name": "stdout",
     "output_type": "stream",
     "text": [
      "Number of users: 1895\n",
      "Number of users with at least 5 interactions: 1140\n"
     ]
    }
   ],
   "source": [
    "# DataFrame that counts number of interactions per user\n",
    "user_interactions_count_df = interactions.groupby([\"personId\", \"contentId\"]).size() \\\n",
    "                                         .groupby(\"personId\").size()\n",
    "print(f\"Number of users: {len(user_interactions_count_df)}\")\n",
    "\n",
    "# DataFrame that contains users with at least 5 interactions\n",
    "users_with_enough_interactions = user_interactions_count_df[\n",
    "                                    user_interactions_count_df>=5].reset_index()[[\"personId\"]]\n",
    "print(f\"Number of users with at least 5 interactions: {len(users_with_enough_interactions)}\")"
   ]
  },
  {
   "cell_type": "markdown",
   "id": "1e3c7e3d-a235-4e2e-a5de-c5ca0702c027",
   "metadata": {},
   "source": [
    "<br>Select interactions of users with at least 5 interactions:"
   ]
  },
  {
   "cell_type": "code",
   "execution_count": 31,
   "id": "1e83103a-4ea4-43c6-9c12-0a77744035ea",
   "metadata": {},
   "outputs": [
    {
     "name": "stdout",
     "output_type": "stream",
     "text": [
      "Total number of interactions: 72312\n",
      "Total number of interactions of users with at least 5 interactions: 69868\n"
     ]
    }
   ],
   "source": [
    "print(f\"Total number of interactions: {len(interactions)}\")\n",
    "interactions_selected_users = interactions.merge(users_with_enough_interactions,\n",
    "                                                 how=\"right\",\n",
    "                                                 left_on=\"personId\",\n",
    "                                                 right_on=\"personId\")\n",
    "\n",
    "print(\"Total number of interactions of users with at least \"+\n",
    "      f\"5 interactions: {len(interactions_selected_users)}\")"
   ]
  },
  {
   "cell_type": "markdown",
   "id": "b7084437-c6b2-46fd-b981-6577514ef7b9",
   "metadata": {},
   "source": [
    "<br> Users are allowed to make multiple interactions with articles (e.g. view), thus I will add all interactions and will log-transform to smooth the distribution"
   ]
  },
  {
   "cell_type": "code",
   "execution_count": 32,
   "id": "175829e9-1363-45d6-9ed4-4e1509a60202",
   "metadata": {},
   "outputs": [
    {
     "data": {
      "text/html": [
       "<div>\n",
       "<style scoped>\n",
       "    .dataframe tbody tr th:only-of-type {\n",
       "        vertical-align: middle;\n",
       "    }\n",
       "\n",
       "    .dataframe tbody tr th {\n",
       "        vertical-align: top;\n",
       "    }\n",
       "\n",
       "    .dataframe thead th {\n",
       "        text-align: right;\n",
       "    }\n",
       "</style>\n",
       "<table border=\"1\" class=\"dataframe\">\n",
       "  <thead>\n",
       "    <tr style=\"text-align: right;\">\n",
       "      <th></th>\n",
       "      <th>personId</th>\n",
       "      <th>contentId</th>\n",
       "      <th>Event_Strength</th>\n",
       "    </tr>\n",
       "  </thead>\n",
       "  <tbody>\n",
       "    <tr>\n",
       "      <th>0</th>\n",
       "      <td>-9223121837663643404</td>\n",
       "      <td>-8949113594875411859</td>\n",
       "      <td>1.000000</td>\n",
       "    </tr>\n",
       "    <tr>\n",
       "      <th>1</th>\n",
       "      <td>-9223121837663643404</td>\n",
       "      <td>-8377626164558006982</td>\n",
       "      <td>1.000000</td>\n",
       "    </tr>\n",
       "    <tr>\n",
       "      <th>2</th>\n",
       "      <td>-9223121837663643404</td>\n",
       "      <td>-8208801367848627943</td>\n",
       "      <td>1.000000</td>\n",
       "    </tr>\n",
       "    <tr>\n",
       "      <th>3</th>\n",
       "      <td>-9223121837663643404</td>\n",
       "      <td>-8187220755213888616</td>\n",
       "      <td>1.000000</td>\n",
       "    </tr>\n",
       "    <tr>\n",
       "      <th>4</th>\n",
       "      <td>-9223121837663643404</td>\n",
       "      <td>-7423191370472335463</td>\n",
       "      <td>3.169925</td>\n",
       "    </tr>\n",
       "  </tbody>\n",
       "</table>\n",
       "</div>"
      ],
      "text/plain": [
       "              personId            contentId  Event_Strength\n",
       "0 -9223121837663643404 -8949113594875411859        1.000000\n",
       "1 -9223121837663643404 -8377626164558006982        1.000000\n",
       "2 -9223121837663643404 -8208801367848627943        1.000000\n",
       "3 -9223121837663643404 -8187220755213888616        1.000000\n",
       "4 -9223121837663643404 -7423191370472335463        3.169925"
      ]
     },
     "execution_count": 32,
     "metadata": {},
     "output_type": "execute_result"
    }
   ],
   "source": [
    "def smooth_user_preference(x):\n",
    "    return math.log(1+x, 2)\n",
    "\n",
    "interactions_full_df = interactions_selected_users \\\n",
    "                        .groupby([\"personId\", \"contentId\"])[\"Event_Strength\"].sum() \\\n",
    "                        .apply(smooth_user_preference).reset_index()\n",
    "\n",
    "interactions_full_df.head()"
   ]
  },
  {
   "cell_type": "markdown",
   "id": "debe9c80-e07e-4eb8-bb27-dbd188a65df1",
   "metadata": {},
   "source": [
    "<a id=5></a>    \n",
    "\n",
    "<div style=\"padding:15px;\n",
    "            color:white;\n",
    "            margin:0;\n",
    "            font-size:200%;\n",
    "            text-align:center;\n",
    "            display:fill;\n",
    "            border-radius:5px;\n",
    "            background-color:#489fb5;\n",
    "            overflow:hidden;\n",
    "            font-weight:500\">\n",
    "       5. Content-based filtering\n",
    "</div>"
   ]
  },
  {
   "cell_type": "markdown",
   "id": "eeb37235-20ac-4459-8d44-0d329ff351d2",
   "metadata": {},
   "source": [
    "[go on top](#0)\n",
    "<br>[go previous chapter ↑](#4)\n",
    "<br>[go next chapter ↓](#6)"
   ]
  },
  {
   "cell_type": "code",
   "execution_count": 37,
   "id": "9b71d48b-0ced-4ad7-8f7e-898d7508272b",
   "metadata": {},
   "outputs": [
    {
     "data": {
      "text/plain": [
       "'\\nCompute TF_IDF - Term Frequency-Inverse Document Frequency \\nTF = term instances/total instances\\nIDF = log(number of documents/documents with term)\\nTF_IDF = TF * IDF\\n'"
      ]
     },
     "execution_count": 37,
     "metadata": {},
     "output_type": "execute_result"
    }
   ],
   "source": [
    "\"\"\"\n",
    "Compute TF_IDF - Term Frequency-Inverse Document Frequency \n",
    "TF = term instances/total instances\n",
    "IDF = log(number of documents/documents with term)\n",
    "TF_IDF = TF * IDF\n",
    "\"\"\"\n",
    "\n",
    "tfidf_articles = tfidf(stop_words=\"english\").fit_transform(articles[\"text\"])"
   ]
  },
  {
   "cell_type": "markdown",
   "id": "bdf22702-03f5-4789-ac43-2a4e5895636d",
   "metadata": {},
   "source": [
    "$72353$ different words describe $3122$ articles in our dataset."
   ]
  },
  {
   "cell_type": "code",
   "execution_count": 34,
   "id": "5e8bf631-2154-4a14-81f7-5a637f3fa095",
   "metadata": {},
   "outputs": [],
   "source": [
    "# Compute cosine similarity between articles\n",
    "cosine_articles = cosine_similarity(tfidf_articles, tfidf_articles)"
   ]
  },
  {
   "cell_type": "code",
   "execution_count": null,
   "id": "b72d8320-4625-488a-a85b-674ba23420d4",
   "metadata": {},
   "outputs": [
    {
     "data": {
      "text/plain": [
       "contentId\n",
       "-6451309518266745024    0\n",
       "-4110354420726924665    1\n",
       "-7292285110016212249    2\n",
       "-6151852268067518688    3\n",
       " 2448026894306402386    4\n",
       "dtype: int64"
      ]
     },
     "execution_count": 245,
     "metadata": {},
     "output_type": "execute_result"
    }
   ],
   "source": [
    "# Create a reverse mapping between article ID and article indice in the dataframe\n",
    "indice_mapping = pd.Series(articles.index, index=articles[\"contentId\"])\n",
    "indice_mapping.head()"
   ]
  },
  {
   "cell_type": "code",
   "execution_count": null,
   "id": "0e6ea766-3eff-4d3d-8bb5-3ec741ba289a",
   "metadata": {},
   "outputs": [],
   "source": [
    "# Function that takes in contentId and returns 10 most similar articles:\n",
    "def get_similar(content_id, m=10, cosine_matrix=cosine_articles):\n",
    "    # Get the indice of article that matches the content ID\n",
    "    idx = indice_mapping[content_id]\n",
    "    \n",
    "    # Get similarity scores for the specified article\n",
    "    similarity_scores = list(enumerate(cosine_articles[idx]))\n",
    "    \n",
    "    # Sort scores\n",
    "    similarity_scores = sorted(similarity_scores,\n",
    "                               key=lambda x: x[1],\n",
    "                               reverse=True)\n",
    "    \n",
    "    # Pick 10 articles with highest similarity:\n",
    "    n = 0  # Number of recommended articles\n",
    "    i = 1  # Iterator through articles with most similarity\n",
    "    recommended = [] # List for storing recommended articles\n",
    "    while n<m:\n",
    "        # Dont recommend articles that were removed\n",
    "        if any((articles[articles[\"contentId\"]==articles.iloc[i][\"contentId\"]].eventType==\"CONTENT REMOVED\")):\n",
    "            i += 1\n",
    "            continue\n",
    "        recommended.append(articles.iloc[similarity_scores[i][0]])\n",
    "        n += 1\n",
    "        i += 1\n",
    "      \n",
    "    return pd.DataFrame(recommended)"
   ]
  },
  {
   "cell_type": "code",
   "execution_count": null,
   "id": "c33502e5-4868-49cf-892a-9279a7e50086",
   "metadata": {},
   "outputs": [
    {
     "name": "stdout",
     "output_type": "stream",
     "text": [
      "Article on which the recommendations are based: \n",
      "Google Data Center 360° Tour \n",
      "\n",
      "Recommended articles:\n"
     ]
    },
    {
     "data": {
      "text/html": [
       "<div>\n",
       "<style scoped>\n",
       "    .dataframe tbody tr th:only-of-type {\n",
       "        vertical-align: middle;\n",
       "    }\n",
       "\n",
       "    .dataframe tbody tr th {\n",
       "        vertical-align: top;\n",
       "    }\n",
       "\n",
       "    .dataframe thead th {\n",
       "        text-align: right;\n",
       "    }\n",
       "</style>\n",
       "<table border=\"1\" class=\"dataframe\">\n",
       "  <thead>\n",
       "    <tr style=\"text-align: right;\">\n",
       "      <th></th>\n",
       "      <th>timestamp</th>\n",
       "      <th>title</th>\n",
       "    </tr>\n",
       "  </thead>\n",
       "  <tbody>\n",
       "    <tr>\n",
       "      <th>142</th>\n",
       "      <td>2016-04-01 14:24:29</td>\n",
       "      <td>Google shares data center security and design ...</td>\n",
       "    </tr>\n",
       "    <tr>\n",
       "      <th>676</th>\n",
       "      <td>2016-04-29 14:24:18</td>\n",
       "      <td>This year's Founders' Letter</td>\n",
       "    </tr>\n",
       "    <tr>\n",
       "      <th>248</th>\n",
       "      <td>2016-04-07 10:20:23</td>\n",
       "      <td>Google Cloud Platform: The smart person's guid...</td>\n",
       "    </tr>\n",
       "    <tr>\n",
       "      <th>906</th>\n",
       "      <td>2016-05-12 12:10:07</td>\n",
       "      <td>YouTube's New Messenger Means You'll Never Hav...</td>\n",
       "    </tr>\n",
       "    <tr>\n",
       "      <th>547</th>\n",
       "      <td>2016-04-22 16:54:20</td>\n",
       "      <td>Top 5 GCP NEXT breakout sessions on YouTube (s...</td>\n",
       "    </tr>\n",
       "    <tr>\n",
       "      <th>884</th>\n",
       "      <td>2016-05-10 22:09:16</td>\n",
       "      <td>Google I/O 2016 Preview: A Chrome/Android merg...</td>\n",
       "    </tr>\n",
       "    <tr>\n",
       "      <th>958</th>\n",
       "      <td>2016-05-13 20:23:06</td>\n",
       "      <td>Google I/O 2016 preview: Android N, Android VR...</td>\n",
       "    </tr>\n",
       "    <tr>\n",
       "      <th>2885</th>\n",
       "      <td>2016-12-17 12:21:21</td>\n",
       "      <td>[Tools] How to Record your Desktop Screen with...</td>\n",
       "    </tr>\n",
       "    <tr>\n",
       "      <th>962</th>\n",
       "      <td>2016-05-13 22:46:21</td>\n",
       "      <td>Google I/O 2016 Preview: Machine Learning, Vir...</td>\n",
       "    </tr>\n",
       "    <tr>\n",
       "      <th>79</th>\n",
       "      <td>2016-03-30 18:07:07</td>\n",
       "      <td>Google admits original enterprise cloud strate...</td>\n",
       "    </tr>\n",
       "  </tbody>\n",
       "</table>\n",
       "</div>"
      ],
      "text/plain": [
       "               timestamp                                              title\n",
       "142  2016-04-01 14:24:29  Google shares data center security and design ...\n",
       "676  2016-04-29 14:24:18                       This year's Founders' Letter\n",
       "248  2016-04-07 10:20:23  Google Cloud Platform: The smart person's guid...\n",
       "906  2016-05-12 12:10:07  YouTube's New Messenger Means You'll Never Hav...\n",
       "547  2016-04-22 16:54:20  Top 5 GCP NEXT breakout sessions on YouTube (s...\n",
       "884  2016-05-10 22:09:16  Google I/O 2016 Preview: A Chrome/Android merg...\n",
       "958  2016-05-13 20:23:06  Google I/O 2016 preview: Android N, Android VR...\n",
       "2885 2016-12-17 12:21:21  [Tools] How to Record your Desktop Screen with...\n",
       "962  2016-05-13 22:46:21  Google I/O 2016 Preview: Machine Learning, Vir...\n",
       "79   2016-03-30 18:07:07  Google admits original enterprise cloud strate..."
      ]
     },
     "execution_count": 257,
     "metadata": {},
     "output_type": "execute_result"
    }
   ],
   "source": [
    "# View some random recommandations\n",
    "print(f\"Article on which the recommendations are based: \\n{articles.loc[3].title} \")\n",
    "print(\"\\nRecommended articles:\")\n",
    "recommended = get_similar(articles.loc[3].contentId, m=10)    \n",
    "recommended[[\"timestamp\", \"title\"]]"
   ]
  },
  {
   "cell_type": "code",
   "execution_count": null,
   "id": "70569083-d2b5-4f42-bd0c-3326f83111f6",
   "metadata": {},
   "outputs": [
    {
     "name": "stdout",
     "output_type": "stream",
     "text": [
      "Article on which the recommendations are based: \n",
      "Indústria 4.0: desafios e oportunidades \n",
      "\n",
      "Recommended articles:\n"
     ]
    },
    {
     "data": {
      "text/html": [
       "<div>\n",
       "<style scoped>\n",
       "    .dataframe tbody tr th:only-of-type {\n",
       "        vertical-align: middle;\n",
       "    }\n",
       "\n",
       "    .dataframe tbody tr th {\n",
       "        vertical-align: top;\n",
       "    }\n",
       "\n",
       "    .dataframe thead th {\n",
       "        text-align: right;\n",
       "    }\n",
       "</style>\n",
       "<table border=\"1\" class=\"dataframe\">\n",
       "  <thead>\n",
       "    <tr style=\"text-align: right;\">\n",
       "      <th></th>\n",
       "      <th>timestamp</th>\n",
       "      <th>title</th>\n",
       "    </tr>\n",
       "  </thead>\n",
       "  <tbody>\n",
       "    <tr>\n",
       "      <th>2487</th>\n",
       "      <td>2016-09-30 20:06:55</td>\n",
       "      <td>Negociação deve garantir ocupação de shoppings...</td>\n",
       "    </tr>\n",
       "    <tr>\n",
       "      <th>1807</th>\n",
       "      <td>2016-07-18 03:56:43</td>\n",
       "      <td>Como o Pokémon Go ajuda a explicar por que o B...</td>\n",
       "    </tr>\n",
       "    <tr>\n",
       "      <th>1110</th>\n",
       "      <td>2016-05-25 23:45:41</td>\n",
       "      <td>Como o e-commerce brasileiro pode, enfim, come...</td>\n",
       "    </tr>\n",
       "    <tr>\n",
       "      <th>2882</th>\n",
       "      <td>2016-12-16 12:30:36</td>\n",
       "      <td>SINAIS do FUTURO imediato: #1, internet das co...</td>\n",
       "    </tr>\n",
       "    <tr>\n",
       "      <th>2571</th>\n",
       "      <td>2016-10-17 12:45:42</td>\n",
       "      <td>A saga do jovem CEO da Dasa</td>\n",
       "    </tr>\n",
       "    <tr>\n",
       "      <th>2763</th>\n",
       "      <td>2016-11-18 13:50:44</td>\n",
       "      <td>Black Friday salva o ano do e-commerce</td>\n",
       "    </tr>\n",
       "    <tr>\n",
       "      <th>2152</th>\n",
       "      <td>2016-08-23 04:36:47</td>\n",
       "      <td>Degraus para o sucesso: a inovação no core do ...</td>\n",
       "    </tr>\n",
       "    <tr>\n",
       "      <th>2754</th>\n",
       "      <td>2016-11-16 13:19:47</td>\n",
       "      <td>Saiba como a Cisco está trabalhando com IoT e ...</td>\n",
       "    </tr>\n",
       "    <tr>\n",
       "      <th>2684</th>\n",
       "      <td>2016-10-31 09:34:02</td>\n",
       "      <td>Por dentro do Nubank, conheça os segredos da f...</td>\n",
       "    </tr>\n",
       "    <tr>\n",
       "      <th>1191</th>\n",
       "      <td>2016-06-01 19:04:18</td>\n",
       "      <td>Por que o Walmart não é Walmart no Brasil</td>\n",
       "    </tr>\n",
       "  </tbody>\n",
       "</table>\n",
       "</div>"
      ],
      "text/plain": [
       "               timestamp                                              title\n",
       "2487 2016-09-30 20:06:55  Negociação deve garantir ocupação de shoppings...\n",
       "1807 2016-07-18 03:56:43  Como o Pokémon Go ajuda a explicar por que o B...\n",
       "1110 2016-05-25 23:45:41  Como o e-commerce brasileiro pode, enfim, come...\n",
       "2882 2016-12-16 12:30:36  SINAIS do FUTURO imediato: #1, internet das co...\n",
       "2571 2016-10-17 12:45:42                        A saga do jovem CEO da Dasa\n",
       "2763 2016-11-18 13:50:44             Black Friday salva o ano do e-commerce\n",
       "2152 2016-08-23 04:36:47  Degraus para o sucesso: a inovação no core do ...\n",
       "2754 2016-11-16 13:19:47  Saiba como a Cisco está trabalhando com IoT e ...\n",
       "2684 2016-10-31 09:34:02  Por dentro do Nubank, conheça os segredos da f...\n",
       "1191 2016-06-01 19:04:18          Por que o Walmart não é Walmart no Brasil"
      ]
     },
     "execution_count": 256,
     "metadata": {},
     "output_type": "execute_result"
    }
   ],
   "source": [
    "# View some random recommandations\n",
    "print(f\"Article on which the recommendations are based: \\n{articles.loc[30].title} \")\n",
    "print(\"\\nRecommended articles:\")\n",
    "recommended = get_similar(articles.loc[10].contentId, m=10)    \n",
    "recommended[[\"timestamp\", \"title\"]]"
   ]
  },
  {
   "cell_type": "markdown",
   "id": "b348992e-442b-4e0c-ad78-9c317da91a43",
   "metadata": {},
   "source": [
    "____"
   ]
  },
  {
   "cell_type": "markdown",
   "id": "fecb9b29-787c-4cd4-aee8-e14503357bdc",
   "metadata": {},
   "source": [
    "## CONTENT BASED RECOMMENDATIONS OF ARTICLES FROM LAST WEEK"
   ]
  },
  {
   "cell_type": "code",
   "execution_count": null,
   "id": "626f3d1c-395a-4eb5-8a68-954fab4f091d",
   "metadata": {},
   "outputs": [],
   "source": [
    "# Function that takes in contentId and returns 10 most similar articles from last 5 days:\n",
    "def get_similar_last_week(content_id, m=10, cosine_matrix=cosine_articles):\n",
    "    # Get the indice of article that matches the content ID\n",
    "    idx = indice_mapping[content_id]\n",
    "    \n",
    "    # Get similarity scores for the specified article\n",
    "    similarity_scores = list(enumerate(cosine_articles[idx]))\n",
    "    \n",
    "    # Sort scores\n",
    "    similarity_scores = sorted(similarity_scores,\n",
    "                               key=lambda x: x[1],\n",
    "                               reverse=True)\n",
    "\n",
    "    # Pick 10 articles with highest similarity:\n",
    "    n = 0  # Number of recommended articles\n",
    "    i = 0  # Iterator through articles with most similarity\n",
    "    recommended = [] # List for storing recommended articles\n",
    "    \n",
    "    date_article = articles[articles.contentId == content_id].iloc[0].timestamp \n",
    "\n",
    "    while (n<m) and (i<len(articles)-1):\n",
    "        i += 1\n",
    "        \n",
    "        # Dont recommend articles that were removed\n",
    "        if any((articles[articles[\"contentId\"]==articles.iloc[i][\"contentId\"]].eventType==\"CONTENT REMOVED\")):\n",
    "            continue\n",
    "            \n",
    "        # Timestamp of similar article\n",
    "        date_similar = articles.iloc[similarity_scores[i][0]].timestamp\n",
    "        \n",
    "        # Delta between dates\n",
    "        delta = (date_article - date_similar).days \n",
    "    \n",
    "        # Recommend only articles that are most similar and were published last 5 days \n",
    "        if 0 < delta < 5:\n",
    "            recommended.append(articles.iloc[similarity_scores[i][0]])\n",
    "            n += 1\n",
    "            \n",
    "    return pd.DataFrame(recommended)"
   ]
  },
  {
   "cell_type": "code",
   "execution_count": null,
   "id": "35d62dc8-5d51-47c8-83db-ddfd9636bbd3",
   "metadata": {},
   "outputs": [
    {
     "name": "stdout",
     "output_type": "stream",
     "text": [
      "Article on which the recommendations are based:\n",
      "timestamp         2016-08-05 17:39:26\n",
      "title        The Broken Window Theory\n",
      "Name: 2000, dtype: object\n",
      "\n",
      "Recommended articles:\n"
     ]
    },
    {
     "data": {
      "text/html": [
       "<div>\n",
       "<style scoped>\n",
       "    .dataframe tbody tr th:only-of-type {\n",
       "        vertical-align: middle;\n",
       "    }\n",
       "\n",
       "    .dataframe tbody tr th {\n",
       "        vertical-align: top;\n",
       "    }\n",
       "\n",
       "    .dataframe thead th {\n",
       "        text-align: right;\n",
       "    }\n",
       "</style>\n",
       "<table border=\"1\" class=\"dataframe\">\n",
       "  <thead>\n",
       "    <tr style=\"text-align: right;\">\n",
       "      <th></th>\n",
       "      <th>timestamp</th>\n",
       "      <th>title</th>\n",
       "    </tr>\n",
       "  </thead>\n",
       "  <tbody>\n",
       "    <tr>\n",
       "      <th>1974</th>\n",
       "      <td>2016-08-03 17:15:09</td>\n",
       "      <td>10 Things I Gained When I Gave Up All My Stuff</td>\n",
       "    </tr>\n",
       "    <tr>\n",
       "      <th>1941</th>\n",
       "      <td>2016-07-31 17:50:36</td>\n",
       "      <td>New South &amp; Central America Trend Briefing fro...</td>\n",
       "    </tr>\n",
       "    <tr>\n",
       "      <th>1975</th>\n",
       "      <td>2016-08-03 17:20:30</td>\n",
       "      <td>Most People Say They Could Get Rid of Tons of ...</td>\n",
       "    </tr>\n",
       "    <tr>\n",
       "      <th>1970</th>\n",
       "      <td>2016-08-03 12:15:10</td>\n",
       "      <td>AI Revolution 101 - AI Revolution</td>\n",
       "    </tr>\n",
       "    <tr>\n",
       "      <th>1952</th>\n",
       "      <td>2016-08-01 18:28:15</td>\n",
       "      <td>5 Internet Trends to Pay Attention to in Late ...</td>\n",
       "    </tr>\n",
       "    <tr>\n",
       "      <th>1960</th>\n",
       "      <td>2016-08-02 18:18:19</td>\n",
       "      <td>Automation and anxiety</td>\n",
       "    </tr>\n",
       "    <tr>\n",
       "      <th>1958</th>\n",
       "      <td>2016-08-02 14:40:03</td>\n",
       "      <td>'Training for Google Apps' Is One Of Chrome's ...</td>\n",
       "    </tr>\n",
       "    <tr>\n",
       "      <th>1954</th>\n",
       "      <td>2016-08-01 18:58:55</td>\n",
       "      <td>10 Free Screen Readers For Blind Or Visually I...</td>\n",
       "    </tr>\n",
       "    <tr>\n",
       "      <th>1945</th>\n",
       "      <td>2016-08-01 11:41:18</td>\n",
       "      <td>You don't talk about refactoring club</td>\n",
       "    </tr>\n",
       "    <tr>\n",
       "      <th>1981</th>\n",
       "      <td>2016-08-04 16:52:48</td>\n",
       "      <td>This startup uses machine learning and satelli...</td>\n",
       "    </tr>\n",
       "  </tbody>\n",
       "</table>\n",
       "</div>"
      ],
      "text/plain": [
       "               timestamp                                              title\n",
       "1974 2016-08-03 17:15:09     10 Things I Gained When I Gave Up All My Stuff\n",
       "1941 2016-07-31 17:50:36  New South & Central America Trend Briefing fro...\n",
       "1975 2016-08-03 17:20:30  Most People Say They Could Get Rid of Tons of ...\n",
       "1970 2016-08-03 12:15:10                  AI Revolution 101 - AI Revolution\n",
       "1952 2016-08-01 18:28:15  5 Internet Trends to Pay Attention to in Late ...\n",
       "1960 2016-08-02 18:18:19                             Automation and anxiety\n",
       "1958 2016-08-02 14:40:03  'Training for Google Apps' Is One Of Chrome's ...\n",
       "1954 2016-08-01 18:58:55  10 Free Screen Readers For Blind Or Visually I...\n",
       "1945 2016-08-01 11:41:18              You don't talk about refactoring club\n",
       "1981 2016-08-04 16:52:48  This startup uses machine learning and satelli..."
      ]
     },
     "execution_count": 342,
     "metadata": {},
     "output_type": "execute_result"
    }
   ],
   "source": [
    "# View some random recommandations\n",
    "print(f\"Article on which the recommendations are based:\")\n",
    "print(articles.loc[2000][[\"timestamp\", \"title\"]])\n",
    "print(\"\\nRecommended articles:\")\n",
    "recommended = get_similar_last_week(articles.loc[2000].contentId)    \n",
    "recommended[[\"timestamp\", \"title\"]]"
   ]
  },
  {
   "cell_type": "code",
   "execution_count": null,
   "id": "dcd2631e-b307-48aa-bb00-91d40b4be74a",
   "metadata": {},
   "outputs": [
    {
     "name": "stdout",
     "output_type": "stream",
     "text": [
      "Article on which the recommendations are based:\n",
      "timestamp                                  2016-04-26 19:16:19\n",
      "title        Cinco competências comportamentais para você s...\n",
      "Name: 600, dtype: object\n",
      "\n",
      "Recommended articles:\n"
     ]
    },
    {
     "data": {
      "text/html": [
       "<div>\n",
       "<style scoped>\n",
       "    .dataframe tbody tr th:only-of-type {\n",
       "        vertical-align: middle;\n",
       "    }\n",
       "\n",
       "    .dataframe tbody tr th {\n",
       "        vertical-align: top;\n",
       "    }\n",
       "\n",
       "    .dataframe thead th {\n",
       "        text-align: right;\n",
       "    }\n",
       "</style>\n",
       "<table border=\"1\" class=\"dataframe\">\n",
       "  <thead>\n",
       "    <tr style=\"text-align: right;\">\n",
       "      <th></th>\n",
       "      <th>timestamp</th>\n",
       "      <th>title</th>\n",
       "    </tr>\n",
       "  </thead>\n",
       "  <tbody>\n",
       "    <tr>\n",
       "      <th>538</th>\n",
       "      <td>2016-04-22 14:17:42</td>\n",
       "      <td>E quando o cliente diz \"Não gostei\"?</td>\n",
       "    </tr>\n",
       "    <tr>\n",
       "      <th>582</th>\n",
       "      <td>2016-04-25 19:04:13</td>\n",
       "      <td>diagramas para entender, criar, inovar e empre...</td>\n",
       "    </tr>\n",
       "    <tr>\n",
       "      <th>529</th>\n",
       "      <td>2016-04-21 19:19:35</td>\n",
       "      <td>big data = real time</td>\n",
       "    </tr>\n",
       "    <tr>\n",
       "      <th>536</th>\n",
       "      <td>2016-04-22 13:53:11</td>\n",
       "      <td>Como os millennials estão mudando o mercado fi...</td>\n",
       "    </tr>\n",
       "    <tr>\n",
       "      <th>571</th>\n",
       "      <td>2016-04-25 14:12:33</td>\n",
       "      <td>Especial Agrishow: Soluções de agricultura de ...</td>\n",
       "    </tr>\n",
       "    <tr>\n",
       "      <th>531</th>\n",
       "      <td>2016-04-21 21:13:09</td>\n",
       "      <td>Modelando APIs REST com Swagger</td>\n",
       "    </tr>\n",
       "    <tr>\n",
       "      <th>575</th>\n",
       "      <td>2016-04-25 14:55:49</td>\n",
       "      <td>Clientes poderão abrir e fechar conta corrente...</td>\n",
       "    </tr>\n",
       "    <tr>\n",
       "      <th>576</th>\n",
       "      <td>2016-04-25 15:00:02</td>\n",
       "      <td>Clientes poderão abrir e fechar conta corrente...</td>\n",
       "    </tr>\n",
       "    <tr>\n",
       "      <th>530</th>\n",
       "      <td>2016-04-21 19:45:11</td>\n",
       "      <td>Documentando uma API JAX-RS com Swagger</td>\n",
       "    </tr>\n",
       "    <tr>\n",
       "      <th>532</th>\n",
       "      <td>2016-04-22 12:02:24</td>\n",
       "      <td>#188. Profissão: Gerente de Projetos by brains9</td>\n",
       "    </tr>\n",
       "  </tbody>\n",
       "</table>\n",
       "</div>"
      ],
      "text/plain": [
       "              timestamp                                              title\n",
       "538 2016-04-22 14:17:42               E quando o cliente diz \"Não gostei\"?\n",
       "582 2016-04-25 19:04:13  diagramas para entender, criar, inovar e empre...\n",
       "529 2016-04-21 19:19:35                               big data = real time\n",
       "536 2016-04-22 13:53:11  Como os millennials estão mudando o mercado fi...\n",
       "571 2016-04-25 14:12:33  Especial Agrishow: Soluções de agricultura de ...\n",
       "531 2016-04-21 21:13:09                    Modelando APIs REST com Swagger\n",
       "575 2016-04-25 14:55:49  Clientes poderão abrir e fechar conta corrente...\n",
       "576 2016-04-25 15:00:02  Clientes poderão abrir e fechar conta corrente...\n",
       "530 2016-04-21 19:45:11            Documentando uma API JAX-RS com Swagger\n",
       "532 2016-04-22 12:02:24   #188. Profissão: Gerente de Projetos by brains9"
      ]
     },
     "execution_count": 340,
     "metadata": {},
     "output_type": "execute_result"
    }
   ],
   "source": [
    "# View some random recommandations\n",
    "print(f\"Article on which the recommendations are based:\")\n",
    "print(articles.loc[600][[\"timestamp\", \"title\"]])\n",
    "print(\"\\nRecommended articles:\")\n",
    "recommended = get_similar_last_week(articles.loc[600].contentId)    \n",
    "recommended[[\"timestamp\", \"title\"]]"
   ]
  },
  {
   "cell_type": "markdown",
   "id": "196df5c1-0ed8-40d5-9aea-62fbfd025371",
   "metadata": {},
   "source": [
    "<a id=6></a>    \n",
    "\n",
    "<div style=\"padding:15px;\n",
    "            color:white;\n",
    "            margin:0;\n",
    "            font-size:200%;\n",
    "            text-align:center;\n",
    "            display:fill;\n",
    "            border-radius:5px;\n",
    "            background-color:#00afb9;\n",
    "            overflow:hidden;\n",
    "            font-weight:500\">\n",
    "       6. Collaborative filtering\n",
    "</div>"
   ]
  },
  {
   "cell_type": "markdown",
   "id": "d9ceca7c-7e81-4d19-8441-efd612e8db4e",
   "metadata": {},
   "source": [
    "[go on top](#0)\n",
    "<br>[go previous chapter ↑](#5)\n",
    "<br>[go next chapter ↓](#7)"
   ]
  },
  {
   "cell_type": "code",
   "execution_count": 59,
   "id": "c208c69e-8e03-44e6-8284-79271ad0beab",
   "metadata": {},
   "outputs": [],
   "source": [
    "reader = Reader(rating_scale=(1, 5))\n",
    "data = Dataset.load_from_df(interactions_full_df[[\"personId\", \"contentId\", \"Event_Strength\"]], reader)\n",
    "\n",
    "history = cross_validate(SVD(), data, cv=5, measures=[\"rmse\", \"mae\"])"
   ]
  },
  {
   "cell_type": "code",
   "execution_count": 61,
   "id": "8893c2be-c892-4961-b45d-c0cde608e841",
   "metadata": {},
   "outputs": [
    {
     "name": "stdout",
     "output_type": "stream",
     "text": [
      "Mean RMSE on test data: 0.62\n",
      "Mean MAE on test data: 0.46\n"
     ]
    }
   ],
   "source": [
    "print(f\"Mean RMSE on test data: {np.mean(history['test_rmse']):.2f}\")\n",
    "print(f\"Mean MAE on test data: {np.mean(history['test_mae']):.2f}\")"
   ]
  },
  {
   "cell_type": "code",
   "execution_count": null,
   "id": "43988b24-72e4-4b25-a23c-bf89f63edbc9",
   "metadata": {},
   "outputs": [],
   "source": []
  }
 ],
 "metadata": {
  "kernelspec": {
   "display_name": "Python 3 (ipykernel)",
   "language": "python",
   "name": "python3"
  },
  "language_info": {
   "codemirror_mode": {
    "name": "ipython",
    "version": 3
   },
   "file_extension": ".py",
   "mimetype": "text/x-python",
   "name": "python",
   "nbconvert_exporter": "python",
   "pygments_lexer": "ipython3",
   "version": "3.9.12"
  }
 },
 "nbformat": 4,
 "nbformat_minor": 5
}
